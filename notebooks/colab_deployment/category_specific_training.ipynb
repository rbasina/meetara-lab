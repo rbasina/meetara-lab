{
  "cells": [
    {
      "cell_type": "markdown",
      "metadata": {},
      "source": [
        "# MeeTARA Lab - Category-Specific Model Training\n",
        "## Scenario D: Category Models (150MB) + Domain Modules (8.3MB)\n",
        "\n",
        "This notebook trains category-specific models for real GPU deployment.\n"
      ]
    },
    {
      "cell_type": "code",
      "execution_count": null,
      "metadata": {},
      "source": [
        "# Install requirements\n",
        "!pip install transformers torch accelerate datasets\n",
        "\n",
        "# Clone MeeTARA Lab\n",
        "!git clone https://github.com/your-repo/meetara-lab.git\n",
        "%cd meetara-lab\n",
        "\n",
        "# Run category-specific training\n",
        "from model_factory.universal_gguf_factory import UniversalGGUFFactory\n",
        "\n",
        "factory = UniversalGGUFFactory()\n",
        "result = factory._test_scenario_d()  # Category-specific testing\n",
        "print(f\"Category-specific training: {'SUCCESS' if result.success else 'FAILED'}\")"
      ]
    }
  ],
  "metadata": {
    "kernelspec": {
      "display_name": "Python 3",
      "language": "python",
      "name": "python3"
    }
  },
  "nbformat": 4,
  "nbformat_minor": 4
}